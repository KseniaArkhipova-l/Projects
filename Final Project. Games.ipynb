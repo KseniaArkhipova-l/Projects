{
 "cells": [
  {
   "cell_type": "markdown",
   "metadata": {},
   "source": [
    "<div class=\"alert alert-block alert-success\">\n",
    "    \n",
    "    \n",
    "# Формирование модели монетизации игры «Космические братья».  Подбор оптимального времени для запуска рекламы. Рассчет окупаемости при разных сценариях.\n",
    "    \n",
    "    \n",
    "</div>"
   ]
  },
  {
   "cell_type": "markdown",
   "metadata": {},
   "source": [
    "# Декомпозиция проекта"
   ]
  },
  {
   "cell_type": "markdown",
   "metadata": {},
   "source": [
    "1. Просмотр файла с данными и изучение общей информации\n",
    "\n",
    "2. Предобработка данных\n",
    "        2.1. Обработка пропусков\n",
    "        2.2. Приведение данных к нужному типу\n",
    "        \n",
    "3. Исследовательский анализ данных\n",
    "        3.1. Оценка пользовательской активности. Метрики DAU, WAU, MAU, Sticky Factor. Количество уникальных пользователей продукта в день (график)\n",
    "        3.2. Анализ источников трафика. Доля пользователей из каждого источника\n",
    "        3.3. Анализ поведения пользователей в игре\n",
    "            3.3.1. Доля каждого события в игре\n",
    "            3.3.2.Распределение событий в игре по дням\n",
    "            3.3.3.Доля построенных объектов\n",
    "            3.3.4.Распределение построенных объектов в игре по дням\n",
    "            \n",
    "        3.4. Сравнение времени, затраченного на прохождение первого уровня разными способами\n",
    "            3.4.1.Подсчет времени, прошедшего с момента первой сессии до прохождения первого уровня, завершив проект\n",
    "            3.4.2.Подсчет времени, прошедшего с момента первой сессии до прохождения первого уровня, победив врага\n",
    "            \n",
    "        3.5. Когортный анализ по количеству построенных объектов на пользователя\n",
    "        3.6. Расчет Retention Rate для пользователей, которые не прошли первый уровень\n",
    "        3.7. Анализ затрат на источники трафика\n",
    "            3.7.1.  Сколько потрачено всего на источники трафика и на каждый источник в отдельности\n",
    "            3.7.2. Стоимость привлечения клиента (САС)\n",
    "            3.7.3.  Расчет минимальной стоимости рекламы, чтобы окупались затраты на привлечения пользователей\n",
    "            \n",
    "4. Проверка статистической гипотезы различия времени прохождения уровня между пользователями, которые заканчивают уровень через реализацию проекта, и пользователями, которые заканчивают уровень победой над другим игроком.\n",
    "        \n",
    "5. Общий вывод"
   ]
  },
  {
   "cell_type": "markdown",
   "metadata": {},
   "source": [
    "## Просмотр файла с данными и изучение общей информации"
   ]
  },
  {
   "cell_type": "code",
   "execution_count": 1,
   "metadata": {},
   "outputs": [],
   "source": [
    "import pandas as pd\n",
    "import numpy as np; np.random.seed(1)\n",
    "import matplotlib.pyplot as plt\n",
    "import seaborn as sns\n",
    "from pandas.tseries import converter\n",
    "pd.plotting.register_matplotlib_converters()\n",
    "pd.options.mode.chained_assignment = None\n",
    "import scipy.stats as st\n",
    "import plotly.graph_objects as go\n",
    "import plotly.express as px\n",
    "from plotly.subplots import make_subplots"
   ]
  },
  {
   "cell_type": "code",
   "execution_count": 2,
   "metadata": {},
   "outputs": [],
   "source": [
    "pd.options.display.max_rows = 300\n",
    "\n",
    "user_source = pd.read_csv('/datasets/user_source.csv')\n",
    "ad_costs = pd.read_csv('/datasets/ad_costs.csv')\n",
    "game_actions = pd.read_csv('/datasets/game_actions.csv')"
   ]
  },
  {
   "cell_type": "code",
   "execution_count": 3,
   "metadata": {},
   "outputs": [
    {
     "data": {
      "text/html": [
       "<div>\n",
       "<style scoped>\n",
       "    .dataframe tbody tr th:only-of-type {\n",
       "        vertical-align: middle;\n",
       "    }\n",
       "\n",
       "    .dataframe tbody tr th {\n",
       "        vertical-align: top;\n",
       "    }\n",
       "\n",
       "    .dataframe thead th {\n",
       "        text-align: right;\n",
       "    }\n",
       "</style>\n",
       "<table border=\"1\" class=\"dataframe\">\n",
       "  <thead>\n",
       "    <tr style=\"text-align: right;\">\n",
       "      <th></th>\n",
       "      <th>user_id</th>\n",
       "      <th>source</th>\n",
       "    </tr>\n",
       "  </thead>\n",
       "  <tbody>\n",
       "    <tr>\n",
       "      <td>0</td>\n",
       "      <td>0001f83c-c6ac-4621-b7f0-8a28b283ac30</td>\n",
       "      <td>facebook_ads</td>\n",
       "    </tr>\n",
       "    <tr>\n",
       "      <td>1</td>\n",
       "      <td>00151b4f-ba38-44a8-a650-d7cf130a0105</td>\n",
       "      <td>yandex_direct</td>\n",
       "    </tr>\n",
       "    <tr>\n",
       "      <td>2</td>\n",
       "      <td>001aaea6-3d14-43f1-8ca8-7f48820f17aa</td>\n",
       "      <td>youtube_channel_reklama</td>\n",
       "    </tr>\n",
       "    <tr>\n",
       "      <td>3</td>\n",
       "      <td>001d39dc-366c-4021-9604-6a3b9ff01e25</td>\n",
       "      <td>instagram_new_adverts</td>\n",
       "    </tr>\n",
       "    <tr>\n",
       "      <td>4</td>\n",
       "      <td>002f508f-67b6-479f-814b-b05f00d4e995</td>\n",
       "      <td>facebook_ads</td>\n",
       "    </tr>\n",
       "    <tr>\n",
       "      <td>5</td>\n",
       "      <td>003b80c6-4164-4157-bb2a-03d0181d39c4</td>\n",
       "      <td>yandex_direct</td>\n",
       "    </tr>\n",
       "    <tr>\n",
       "      <td>6</td>\n",
       "      <td>003ee7e8-6356-4286-a715-62f22a18d2a1</td>\n",
       "      <td>instagram_new_adverts</td>\n",
       "    </tr>\n",
       "    <tr>\n",
       "      <td>7</td>\n",
       "      <td>004074f8-251a-4776-922c-8348dca1a2f6</td>\n",
       "      <td>facebook_ads</td>\n",
       "    </tr>\n",
       "    <tr>\n",
       "      <td>8</td>\n",
       "      <td>00440efd-aa50-4b4b-aae8-ffcd1782729d</td>\n",
       "      <td>facebook_ads</td>\n",
       "    </tr>\n",
       "    <tr>\n",
       "      <td>9</td>\n",
       "      <td>00464e5e-28ed-4be6-bf44-517ef7b3937b</td>\n",
       "      <td>yandex_direct</td>\n",
       "    </tr>\n",
       "  </tbody>\n",
       "</table>\n",
       "</div>"
      ],
      "text/plain": [
       "                                user_id                   source\n",
       "0  0001f83c-c6ac-4621-b7f0-8a28b283ac30             facebook_ads\n",
       "1  00151b4f-ba38-44a8-a650-d7cf130a0105            yandex_direct\n",
       "2  001aaea6-3d14-43f1-8ca8-7f48820f17aa  youtube_channel_reklama\n",
       "3  001d39dc-366c-4021-9604-6a3b9ff01e25    instagram_new_adverts\n",
       "4  002f508f-67b6-479f-814b-b05f00d4e995             facebook_ads\n",
       "5  003b80c6-4164-4157-bb2a-03d0181d39c4            yandex_direct\n",
       "6  003ee7e8-6356-4286-a715-62f22a18d2a1    instagram_new_adverts\n",
       "7  004074f8-251a-4776-922c-8348dca1a2f6             facebook_ads\n",
       "8  00440efd-aa50-4b4b-aae8-ffcd1782729d             facebook_ads\n",
       "9  00464e5e-28ed-4be6-bf44-517ef7b3937b            yandex_direct"
      ]
     },
     "metadata": {},
     "output_type": "display_data"
    },
    {
     "data": {
      "text/html": [
       "<div>\n",
       "<style scoped>\n",
       "    .dataframe tbody tr th:only-of-type {\n",
       "        vertical-align: middle;\n",
       "    }\n",
       "\n",
       "    .dataframe tbody tr th {\n",
       "        vertical-align: top;\n",
       "    }\n",
       "\n",
       "    .dataframe thead th {\n",
       "        text-align: right;\n",
       "    }\n",
       "</style>\n",
       "<table border=\"1\" class=\"dataframe\">\n",
       "  <thead>\n",
       "    <tr style=\"text-align: right;\">\n",
       "      <th></th>\n",
       "      <th>source</th>\n",
       "      <th>day</th>\n",
       "      <th>cost</th>\n",
       "    </tr>\n",
       "  </thead>\n",
       "  <tbody>\n",
       "    <tr>\n",
       "      <td>0</td>\n",
       "      <td>facebook_ads</td>\n",
       "      <td>2020-05-03</td>\n",
       "      <td>935.882786</td>\n",
       "    </tr>\n",
       "    <tr>\n",
       "      <td>1</td>\n",
       "      <td>facebook_ads</td>\n",
       "      <td>2020-05-04</td>\n",
       "      <td>548.354480</td>\n",
       "    </tr>\n",
       "    <tr>\n",
       "      <td>2</td>\n",
       "      <td>facebook_ads</td>\n",
       "      <td>2020-05-05</td>\n",
       "      <td>260.185754</td>\n",
       "    </tr>\n",
       "    <tr>\n",
       "      <td>3</td>\n",
       "      <td>facebook_ads</td>\n",
       "      <td>2020-05-06</td>\n",
       "      <td>177.982200</td>\n",
       "    </tr>\n",
       "    <tr>\n",
       "      <td>4</td>\n",
       "      <td>facebook_ads</td>\n",
       "      <td>2020-05-07</td>\n",
       "      <td>111.766796</td>\n",
       "    </tr>\n",
       "    <tr>\n",
       "      <td>5</td>\n",
       "      <td>facebook_ads</td>\n",
       "      <td>2020-05-08</td>\n",
       "      <td>68.009276</td>\n",
       "    </tr>\n",
       "    <tr>\n",
       "      <td>6</td>\n",
       "      <td>facebook_ads</td>\n",
       "      <td>2020-05-09</td>\n",
       "      <td>38.723350</td>\n",
       "    </tr>\n",
       "    <tr>\n",
       "      <td>7</td>\n",
       "      <td>instagram_new_adverts</td>\n",
       "      <td>2020-05-03</td>\n",
       "      <td>943.204717</td>\n",
       "    </tr>\n",
       "    <tr>\n",
       "      <td>8</td>\n",
       "      <td>instagram_new_adverts</td>\n",
       "      <td>2020-05-04</td>\n",
       "      <td>502.925451</td>\n",
       "    </tr>\n",
       "    <tr>\n",
       "      <td>9</td>\n",
       "      <td>instagram_new_adverts</td>\n",
       "      <td>2020-05-05</td>\n",
       "      <td>313.970984</td>\n",
       "    </tr>\n",
       "  </tbody>\n",
       "</table>\n",
       "</div>"
      ],
      "text/plain": [
       "                  source         day        cost\n",
       "0           facebook_ads  2020-05-03  935.882786\n",
       "1           facebook_ads  2020-05-04  548.354480\n",
       "2           facebook_ads  2020-05-05  260.185754\n",
       "3           facebook_ads  2020-05-06  177.982200\n",
       "4           facebook_ads  2020-05-07  111.766796\n",
       "5           facebook_ads  2020-05-08   68.009276\n",
       "6           facebook_ads  2020-05-09   38.723350\n",
       "7  instagram_new_adverts  2020-05-03  943.204717\n",
       "8  instagram_new_adverts  2020-05-04  502.925451\n",
       "9  instagram_new_adverts  2020-05-05  313.970984"
      ]
     },
     "metadata": {},
     "output_type": "display_data"
    },
    {
     "data": {
      "text/html": [
       "<div>\n",
       "<style scoped>\n",
       "    .dataframe tbody tr th:only-of-type {\n",
       "        vertical-align: middle;\n",
       "    }\n",
       "\n",
       "    .dataframe tbody tr th {\n",
       "        vertical-align: top;\n",
       "    }\n",
       "\n",
       "    .dataframe thead th {\n",
       "        text-align: right;\n",
       "    }\n",
       "</style>\n",
       "<table border=\"1\" class=\"dataframe\">\n",
       "  <thead>\n",
       "    <tr style=\"text-align: right;\">\n",
       "      <th></th>\n",
       "      <th>event_datetime</th>\n",
       "      <th>event</th>\n",
       "      <th>building_type</th>\n",
       "      <th>user_id</th>\n",
       "      <th>project_type</th>\n",
       "    </tr>\n",
       "  </thead>\n",
       "  <tbody>\n",
       "    <tr>\n",
       "      <td>135630</td>\n",
       "      <td>2020-06-04 08:29:42</td>\n",
       "      <td>project</td>\n",
       "      <td>NaN</td>\n",
       "      <td>d477dde8-7c22-4f23-9c4f-4ec31a1aa4c8</td>\n",
       "      <td>satellite_orbital_assembly</td>\n",
       "    </tr>\n",
       "    <tr>\n",
       "      <td>135631</td>\n",
       "      <td>2020-06-04 13:26:25</td>\n",
       "      <td>building</td>\n",
       "      <td>research_center</td>\n",
       "      <td>32572adb-900f-4b5d-a453-1eb1e6d88d8b</td>\n",
       "      <td>NaN</td>\n",
       "    </tr>\n",
       "    <tr>\n",
       "      <td>135632</td>\n",
       "      <td>2020-06-04 15:50:38</td>\n",
       "      <td>finished_stage_1</td>\n",
       "      <td>NaN</td>\n",
       "      <td>22cce310-fe10-41a2-941b-9c3d63327fea</td>\n",
       "      <td>NaN</td>\n",
       "    </tr>\n",
       "    <tr>\n",
       "      <td>135633</td>\n",
       "      <td>2020-06-04 17:56:14</td>\n",
       "      <td>finished_stage_1</td>\n",
       "      <td>NaN</td>\n",
       "      <td>d477dde8-7c22-4f23-9c4f-4ec31a1aa4c8</td>\n",
       "      <td>NaN</td>\n",
       "    </tr>\n",
       "    <tr>\n",
       "      <td>135634</td>\n",
       "      <td>2020-06-04 18:14:33</td>\n",
       "      <td>building</td>\n",
       "      <td>research_center</td>\n",
       "      <td>515c1952-99aa-4bca-a7ea-d0449eb5385a</td>\n",
       "      <td>NaN</td>\n",
       "    </tr>\n",
       "    <tr>\n",
       "      <td>135635</td>\n",
       "      <td>2020-06-05 00:08:06</td>\n",
       "      <td>building</td>\n",
       "      <td>research_center</td>\n",
       "      <td>f21d179f-1c4b-437e-b9c6-ab1976907195</td>\n",
       "      <td>NaN</td>\n",
       "    </tr>\n",
       "    <tr>\n",
       "      <td>135636</td>\n",
       "      <td>2020-06-05 02:25:12</td>\n",
       "      <td>finished_stage_1</td>\n",
       "      <td>NaN</td>\n",
       "      <td>515c1952-99aa-4bca-a7ea-d0449eb5385a</td>\n",
       "      <td>NaN</td>\n",
       "    </tr>\n",
       "    <tr>\n",
       "      <td>135637</td>\n",
       "      <td>2020-06-05 08:57:52</td>\n",
       "      <td>building</td>\n",
       "      <td>research_center</td>\n",
       "      <td>ed3e7d02-8a96-4be7-9998-e9813ff9c316</td>\n",
       "      <td>NaN</td>\n",
       "    </tr>\n",
       "    <tr>\n",
       "      <td>135638</td>\n",
       "      <td>2020-06-05 12:12:27</td>\n",
       "      <td>finished_stage_1</td>\n",
       "      <td>NaN</td>\n",
       "      <td>32572adb-900f-4b5d-a453-1eb1e6d88d8b</td>\n",
       "      <td>NaN</td>\n",
       "    </tr>\n",
       "    <tr>\n",
       "      <td>135639</td>\n",
       "      <td>2020-06-05 12:32:49</td>\n",
       "      <td>finished_stage_1</td>\n",
       "      <td>NaN</td>\n",
       "      <td>f21d179f-1c4b-437e-b9c6-ab1976907195</td>\n",
       "      <td>NaN</td>\n",
       "    </tr>\n",
       "  </tbody>\n",
       "</table>\n",
       "</div>"
      ],
      "text/plain": [
       "             event_datetime             event    building_type  \\\n",
       "135630  2020-06-04 08:29:42           project              NaN   \n",
       "135631  2020-06-04 13:26:25          building  research_center   \n",
       "135632  2020-06-04 15:50:38  finished_stage_1              NaN   \n",
       "135633  2020-06-04 17:56:14  finished_stage_1              NaN   \n",
       "135634  2020-06-04 18:14:33          building  research_center   \n",
       "135635  2020-06-05 00:08:06          building  research_center   \n",
       "135636  2020-06-05 02:25:12  finished_stage_1              NaN   \n",
       "135637  2020-06-05 08:57:52          building  research_center   \n",
       "135638  2020-06-05 12:12:27  finished_stage_1              NaN   \n",
       "135639  2020-06-05 12:32:49  finished_stage_1              NaN   \n",
       "\n",
       "                                     user_id                project_type  \n",
       "135630  d477dde8-7c22-4f23-9c4f-4ec31a1aa4c8  satellite_orbital_assembly  \n",
       "135631  32572adb-900f-4b5d-a453-1eb1e6d88d8b                         NaN  \n",
       "135632  22cce310-fe10-41a2-941b-9c3d63327fea                         NaN  \n",
       "135633  d477dde8-7c22-4f23-9c4f-4ec31a1aa4c8                         NaN  \n",
       "135634  515c1952-99aa-4bca-a7ea-d0449eb5385a                         NaN  \n",
       "135635  f21d179f-1c4b-437e-b9c6-ab1976907195                         NaN  \n",
       "135636  515c1952-99aa-4bca-a7ea-d0449eb5385a                         NaN  \n",
       "135637  ed3e7d02-8a96-4be7-9998-e9813ff9c316                         NaN  \n",
       "135638  32572adb-900f-4b5d-a453-1eb1e6d88d8b                         NaN  \n",
       "135639  f21d179f-1c4b-437e-b9c6-ab1976907195                         NaN  "
      ]
     },
     "metadata": {},
     "output_type": "display_data"
    }
   ],
   "source": [
    "display(user_source.head(10))\n",
    "\n",
    "display(ad_costs.head(10))\n",
    "\n",
    "display(game_actions.tail(10))"
   ]
  },
  {
   "cell_type": "code",
   "execution_count": 4,
   "metadata": {},
   "outputs": [
    {
     "name": "stdout",
     "output_type": "stream",
     "text": [
      "\u001b[1;94mОбщая информация:\u001b[0m\n",
      "<class 'pandas.core.frame.DataFrame'>\n",
      "RangeIndex: 13576 entries, 0 to 13575\n",
      "Data columns (total 2 columns):\n",
      "user_id    13576 non-null object\n",
      "source     13576 non-null object\n",
      "dtypes: object(2)\n",
      "memory usage: 212.2+ KB\n"
     ]
    },
    {
     "data": {
      "text/plain": [
       "None"
      ]
     },
     "metadata": {},
     "output_type": "display_data"
    },
    {
     "name": "stdout",
     "output_type": "stream",
     "text": [
      "<class 'pandas.core.frame.DataFrame'>\n",
      "RangeIndex: 28 entries, 0 to 27\n",
      "Data columns (total 3 columns):\n",
      "source    28 non-null object\n",
      "day       28 non-null object\n",
      "cost      28 non-null float64\n",
      "dtypes: float64(1), object(2)\n",
      "memory usage: 800.0+ bytes\n"
     ]
    },
    {
     "data": {
      "text/plain": [
       "None"
      ]
     },
     "metadata": {},
     "output_type": "display_data"
    },
    {
     "name": "stdout",
     "output_type": "stream",
     "text": [
      "<class 'pandas.core.frame.DataFrame'>\n",
      "RangeIndex: 135640 entries, 0 to 135639\n",
      "Data columns (total 5 columns):\n",
      "event_datetime    135640 non-null object\n",
      "event             135640 non-null object\n",
      "building_type     127957 non-null object\n",
      "user_id           135640 non-null object\n",
      "project_type      1866 non-null object\n",
      "dtypes: object(5)\n",
      "memory usage: 5.2+ MB\n"
     ]
    },
    {
     "data": {
      "text/plain": [
       "None"
      ]
     },
     "metadata": {},
     "output_type": "display_data"
    }
   ],
   "source": [
    "print('\\x1b[1;94m'+'Общая информация:'+'\\x1b[0m')\n",
    "\n",
    "for df in [user_source,ad_costs,game_actions]: \n",
    "    display(df.info())"
   ]
  },
  {
   "cell_type": "markdown",
   "metadata": {},
   "source": [
    "### Вывод"
   ]
  },
  {
   "cell_type": "markdown",
   "metadata": {},
   "source": [
    "<div style=\"border:solid black 2px; padding: 20px\">\n",
    "    \n",
    "Представлены данные: с информацией об источниках трафика пользователей; с итоговой стоимостью за клики, которая распределена по дням и источникам трафика; с информацией о событиях пользователей в игре за анализируемый период.\n",
    "Присутствуют пропущенные значения в столбцах: \"building_type\" и \"project_type\". Необходимо преобразовать тип данных со временем в временной формат datetime. "
   ]
  },
  {
   "cell_type": "markdown",
   "metadata": {},
   "source": [
    "## Предобработка данных"
   ]
  },
  {
   "cell_type": "markdown",
   "metadata": {},
   "source": [
    "### Обработка пропусков"
   ]
  },
  {
   "cell_type": "code",
   "execution_count": 5,
   "metadata": {},
   "outputs": [
    {
     "data": {
      "text/html": [
       "<div>\n",
       "<style scoped>\n",
       "    .dataframe tbody tr th:only-of-type {\n",
       "        vertical-align: middle;\n",
       "    }\n",
       "\n",
       "    .dataframe tbody tr th {\n",
       "        vertical-align: top;\n",
       "    }\n",
       "\n",
       "    .dataframe thead th {\n",
       "        text-align: right;\n",
       "    }\n",
       "</style>\n",
       "<table border=\"1\" class=\"dataframe\">\n",
       "  <thead>\n",
       "    <tr style=\"text-align: right;\">\n",
       "      <th></th>\n",
       "      <th></th>\n",
       "      <th>user_id</th>\n",
       "    </tr>\n",
       "    <tr>\n",
       "      <th>event</th>\n",
       "      <th>project_type</th>\n",
       "      <th></th>\n",
       "    </tr>\n",
       "  </thead>\n",
       "  <tbody>\n",
       "    <tr>\n",
       "      <td>project</td>\n",
       "      <td>satellite_orbital_assembly</td>\n",
       "      <td>1866</td>\n",
       "    </tr>\n",
       "  </tbody>\n",
       "</table>\n",
       "</div>"
      ],
      "text/plain": [
       "                                    user_id\n",
       "event   project_type                       \n",
       "project satellite_orbital_assembly     1866"
      ]
     },
     "execution_count": 5,
     "metadata": {},
     "output_type": "execute_result"
    }
   ],
   "source": [
    "game_actions.groupby(['event', 'project_type']).agg({'user_id':'count'})"
   ]
  },
  {
   "cell_type": "markdown",
   "metadata": {},
   "source": [
    "<div style=\"border:solid gray 1px; padding: 20px\">\n",
    "При построении трех объектов реализуется проект. Тип проекта - разработка орбитальной сборки спутников. При других событиях - проект не реализуется, следовательно в столбце project_type - пропуск. Данные пропущены не случайно, а ввиду закономерности, поэтому будем игнорировать их. "
   ]
  },
  {
   "cell_type": "code",
   "execution_count": 6,
   "metadata": {},
   "outputs": [
    {
     "data": {
      "text/plain": [
       "user_id    127957\n",
       "Name: building_type, dtype: int64"
      ]
     },
     "execution_count": 6,
     "metadata": {},
     "output_type": "execute_result"
    }
   ],
   "source": [
    "game_actions.query('event == \"building\"')['building_type'].agg({'user_id':'count'})"
   ]
  },
  {
   "cell_type": "markdown",
   "metadata": {},
   "source": [
    "<div style=\"border:solid gray 1px; padding: 20px\">\n",
    "Аналогичная ситуация со столбцом \"building_type\". Данные пропущены только в тех случаях, когда пользователь либо завершил проект, либо закончил первый уровень (победа над первым врагом). Принято решение - игнорировать пропуски."
   ]
  },
  {
   "cell_type": "markdown",
   "metadata": {},
   "source": [
    "### Приведение данных к нужному типу"
   ]
  },
  {
   "cell_type": "code",
   "execution_count": 7,
   "metadata": {},
   "outputs": [
    {
     "name": "stdout",
     "output_type": "stream",
     "text": [
      "<class 'pandas.core.frame.DataFrame'>\n",
      "RangeIndex: 28 entries, 0 to 27\n",
      "Data columns (total 3 columns):\n",
      "source    28 non-null object\n",
      "day       28 non-null datetime64[ns]\n",
      "cost      28 non-null float64\n",
      "dtypes: datetime64[ns](1), float64(1), object(1)\n",
      "memory usage: 800.0+ bytes\n"
     ]
    },
    {
     "data": {
      "text/plain": [
       "None"
      ]
     },
     "metadata": {},
     "output_type": "display_data"
    },
    {
     "name": "stdout",
     "output_type": "stream",
     "text": [
      "<class 'pandas.core.frame.DataFrame'>\n",
      "RangeIndex: 135640 entries, 0 to 135639\n",
      "Data columns (total 5 columns):\n",
      "event_datetime    135640 non-null datetime64[ns]\n",
      "event             135640 non-null object\n",
      "building_type     127957 non-null object\n",
      "user_id           135640 non-null object\n",
      "project_type      1866 non-null object\n",
      "dtypes: datetime64[ns](1), object(4)\n",
      "memory usage: 5.2+ MB\n"
     ]
    },
    {
     "data": {
      "text/plain": [
       "None"
      ]
     },
     "metadata": {},
     "output_type": "display_data"
    },
    {
     "data": {
      "text/html": [
       "<div>\n",
       "<style scoped>\n",
       "    .dataframe tbody tr th:only-of-type {\n",
       "        vertical-align: middle;\n",
       "    }\n",
       "\n",
       "    .dataframe tbody tr th {\n",
       "        vertical-align: top;\n",
       "    }\n",
       "\n",
       "    .dataframe thead th {\n",
       "        text-align: right;\n",
       "    }\n",
       "</style>\n",
       "<table border=\"1\" class=\"dataframe\">\n",
       "  <thead>\n",
       "    <tr style=\"text-align: right;\">\n",
       "      <th></th>\n",
       "      <th>event_datetime</th>\n",
       "      <th>event</th>\n",
       "      <th>building_type</th>\n",
       "      <th>user_id</th>\n",
       "      <th>project_type</th>\n",
       "    </tr>\n",
       "  </thead>\n",
       "  <tbody>\n",
       "    <tr>\n",
       "      <td>0</td>\n",
       "      <td>2020-05-04 00:00:01</td>\n",
       "      <td>building</td>\n",
       "      <td>assembly_shop</td>\n",
       "      <td>55e92310-cb8e-4754-b622-597e124b03de</td>\n",
       "      <td>NaN</td>\n",
       "    </tr>\n",
       "    <tr>\n",
       "      <td>1</td>\n",
       "      <td>2020-05-04 00:00:03</td>\n",
       "      <td>building</td>\n",
       "      <td>assembly_shop</td>\n",
       "      <td>c07b1c10-f477-44dc-81dc-ec82254b1347</td>\n",
       "      <td>NaN</td>\n",
       "    </tr>\n",
       "    <tr>\n",
       "      <td>2</td>\n",
       "      <td>2020-05-04 00:00:16</td>\n",
       "      <td>building</td>\n",
       "      <td>assembly_shop</td>\n",
       "      <td>6edd42cc-e753-4ff6-a947-2107cd560710</td>\n",
       "      <td>NaN</td>\n",
       "    </tr>\n",
       "    <tr>\n",
       "      <td>3</td>\n",
       "      <td>2020-05-04 00:00:16</td>\n",
       "      <td>building</td>\n",
       "      <td>assembly_shop</td>\n",
       "      <td>92c69003-d60a-444a-827f-8cc51bf6bf4c</td>\n",
       "      <td>NaN</td>\n",
       "    </tr>\n",
       "    <tr>\n",
       "      <td>4</td>\n",
       "      <td>2020-05-04 00:00:35</td>\n",
       "      <td>building</td>\n",
       "      <td>assembly_shop</td>\n",
       "      <td>cdc6bb92-0ccb-4490-9866-ef142f09139d</td>\n",
       "      <td>NaN</td>\n",
       "    </tr>\n",
       "    <tr>\n",
       "      <td>5</td>\n",
       "      <td>2020-05-04 00:00:36</td>\n",
       "      <td>building</td>\n",
       "      <td>assembly_shop</td>\n",
       "      <td>06c592ca-902d-42bb-bac3-75ce84cca159</td>\n",
       "      <td>NaN</td>\n",
       "    </tr>\n",
       "    <tr>\n",
       "      <td>6</td>\n",
       "      <td>2020-05-04 00:00:36</td>\n",
       "      <td>building</td>\n",
       "      <td>assembly_shop</td>\n",
       "      <td>4fe0f101-694b-4e31-9740-d1d87f7208ea</td>\n",
       "      <td>NaN</td>\n",
       "    </tr>\n",
       "    <tr>\n",
       "      <td>7</td>\n",
       "      <td>2020-05-04 00:00:38</td>\n",
       "      <td>building</td>\n",
       "      <td>assembly_shop</td>\n",
       "      <td>beb8ca15-33a9-465d-b47b-89aa96f89c9a</td>\n",
       "      <td>NaN</td>\n",
       "    </tr>\n",
       "    <tr>\n",
       "      <td>8</td>\n",
       "      <td>2020-05-04 00:00:44</td>\n",
       "      <td>building</td>\n",
       "      <td>assembly_shop</td>\n",
       "      <td>65a92713-5969-48b1-8945-bfefa5063887</td>\n",
       "      <td>NaN</td>\n",
       "    </tr>\n",
       "    <tr>\n",
       "      <td>9</td>\n",
       "      <td>2020-05-04 00:01:33</td>\n",
       "      <td>building</td>\n",
       "      <td>assembly_shop</td>\n",
       "      <td>fa352362-d258-472c-b295-2796ccc39fa3</td>\n",
       "      <td>NaN</td>\n",
       "    </tr>\n",
       "  </tbody>\n",
       "</table>\n",
       "</div>"
      ],
      "text/plain": [
       "       event_datetime     event  building_type  \\\n",
       "0 2020-05-04 00:00:01  building  assembly_shop   \n",
       "1 2020-05-04 00:00:03  building  assembly_shop   \n",
       "2 2020-05-04 00:00:16  building  assembly_shop   \n",
       "3 2020-05-04 00:00:16  building  assembly_shop   \n",
       "4 2020-05-04 00:00:35  building  assembly_shop   \n",
       "5 2020-05-04 00:00:36  building  assembly_shop   \n",
       "6 2020-05-04 00:00:36  building  assembly_shop   \n",
       "7 2020-05-04 00:00:38  building  assembly_shop   \n",
       "8 2020-05-04 00:00:44  building  assembly_shop   \n",
       "9 2020-05-04 00:01:33  building  assembly_shop   \n",
       "\n",
       "                                user_id project_type  \n",
       "0  55e92310-cb8e-4754-b622-597e124b03de          NaN  \n",
       "1  c07b1c10-f477-44dc-81dc-ec82254b1347          NaN  \n",
       "2  6edd42cc-e753-4ff6-a947-2107cd560710          NaN  \n",
       "3  92c69003-d60a-444a-827f-8cc51bf6bf4c          NaN  \n",
       "4  cdc6bb92-0ccb-4490-9866-ef142f09139d          NaN  \n",
       "5  06c592ca-902d-42bb-bac3-75ce84cca159          NaN  \n",
       "6  4fe0f101-694b-4e31-9740-d1d87f7208ea          NaN  \n",
       "7  beb8ca15-33a9-465d-b47b-89aa96f89c9a          NaN  \n",
       "8  65a92713-5969-48b1-8945-bfefa5063887          NaN  \n",
       "9  fa352362-d258-472c-b295-2796ccc39fa3          NaN  "
      ]
     },
     "metadata": {},
     "output_type": "display_data"
    }
   ],
   "source": [
    "game_actions['event_datetime'] = pd.to_datetime(game_actions['event_datetime'], format='%Y-%m-%dT%H:%M:%S')\n",
    "ad_costs['day'] = pd.to_datetime(ad_costs['day'], format='%Y-%m-%d')\n",
    "\n",
    "for df in [ad_costs,game_actions]: \n",
    "    display(df.info())\n",
    "    \n",
    "display(game_actions.head(10))"
   ]
  },
  {
   "cell_type": "markdown",
   "metadata": {},
   "source": [
    "<div style=\"border:solid gray 1px; padding: 20px\">\n",
    "\n",
    "Данные в таблицах успешно преобразованы в формат datetime, чтобы в дальнейшем с ними можно было проводить вычислительные операции."
   ]
  },
  {
   "cell_type": "markdown",
   "metadata": {},
   "source": [
    "### Вывод"
   ]
  },
  {
   "cell_type": "markdown",
   "metadata": {},
   "source": [
    "<div style=\"border:solid black 2px; padding: 20px\">\n",
    "\n",
    "Анализирован механизм формирования пропусков, в результате которого было было принято решение - игнорировать их. Данные в столбцах со временем приведены в тип datetime"
   ]
  },
  {
   "cell_type": "markdown",
   "metadata": {},
   "source": [
    "## Исследовательский анализ данных"
   ]
  },
  {
   "cell_type": "code",
   "execution_count": 8,
   "metadata": {},
   "outputs": [],
   "source": [
    "#Добавим столбцы\n",
    "\n",
    "game_actions['day'] = game_actions['event_datetime'].astype('datetime64[D]')\n",
    "game_actions['week'] = game_actions['event_datetime'].astype('datetime64[W]')\n",
    "game_actions['month'] = game_actions['event_datetime'].astype('datetime64[M]')"
   ]
  },
  {
   "cell_type": "markdown",
   "metadata": {},
   "source": [
    "### Оценка пользовательской активности. Метрики DAU, WAU, MAU, Sticky Factor."
   ]
  },
  {
   "cell_type": "code",
   "execution_count": 9,
   "metadata": {},
   "outputs": [
    {
     "name": "stdout",
     "output_type": "stream",
     "text": [
      "\u001b[1;94mКоличество уникальных пользователей продукта в день:\u001b[0m 2884\n",
      "\u001b[1;94mКоличество уникальных пользователей продукта в неделю:\u001b[0m 6019\n",
      "\u001b[1;94mКоличество уникальных пользователей продукта в месяц:\u001b[0m 6802\n",
      "\n",
      "\u001b[1;31mВовлеченность аудитории за неделю: 47.92%\u001b[0m\n",
      "\u001b[1;31mВовлеченность аудитории за месяц: 42.41%\u001b[0m\n"
     ]
    },
    {
     "data": {
      "image/png": "[encoded data removed]",
      "text/plain": [
       "<Figure size 1008x504 with 1 Axes>"
      ]
     },
     "metadata": {
      "needs_background": "light"
     },
     "output_type": "display_data"
    }
   ],
   "source": [
    "#Среднее количество пользователей продукта в день (метрика DAU):\n",
    "dau_total = game_actions.groupby('day').agg({'user_id':'nunique'})           \n",
    "print('\\x1b[1;94m'+'Количество уникальных пользователей продукта в день:'+'\\x1b[0m', int(dau_total.mean()))\n",
    "\n",
    "\n",
    "#Среднее количество пользователей продукта в неделю (метрика WAU):\n",
    "wau_total = game_actions.groupby('week').agg({'user_id':'nunique'}).mean()           \n",
    "print('\\x1b[1;94m'+'Количество уникальных пользователей продукта в неделю:'+'\\x1b[0m', int(wau_total))\n",
    "\n",
    "\n",
    "#Среднее количество пользователей продукта в месяц (метрика MAU):\n",
    "mau_total = game_actions.groupby('month').agg({'user_id':'nunique'}).mean()          \n",
    "print('\\x1b[1;94m'+'Количество уникальных пользователей продукта в месяц:'+'\\x1b[0m', int(mau_total))\n",
    "print('')\n",
    "    \n",
    "sticky_wau = ((dau_total.mean()) / wau_total)\n",
    "sticky_mau = ((dau_total.mean()) / mau_total)\n",
    "print('\\x1b[1;31m'+'Вовлеченность аудитории за неделю: {:.2%}'.format(sticky_wau[0])+'\\x1b[0m')\n",
    "print('\\x1b[1;31m'+'Вовлеченность аудитории за месяц: {:.2%}'.format(sticky_mau[0])+'\\x1b[0m')\n",
    "\n",
    "\n",
    "plt.figure(figsize=(14,7))\n",
    "plt.title(\"Количество уникальных пользователей продукта в день\")\n",
    "plt.ylabel('Количество уникальных пользователей')\n",
    "plot=sns.lineplot(data = dau_total, legend=False, palette=\"Greens_r\")\n",
    "plot.grid(True)"
   ]
  },
  {
   "cell_type": "markdown",
   "metadata": {},
   "source": [
    "<div style=\"border:solid gray 1px; padding: 20px\">\n",
    "  \n",
    "  За период с 5 мая по 6 июня 2020 года:\n",
    "    \n",
    "  Количество уникальных пользователей игры в день - 2884. Пик пользователей был - 10 мая. После этого показатель пошел на спад.\n",
    "      \n",
    "  Количество уникальных пользователей игры в неделю: 6019\n",
    "      \n",
    "  Количество уникальных пользователей игры в месяц: 6802\n",
    "    \n",
    "Регулярность использования мобильной игры - 42%. Это показатель на хорошем уровне, так как в среднем по играм он составляет 18%. Пользовательская база стабильна, с большой вероятностью новый привлеченный игрок останется.\n",
    "Источник: \n",
    "    \n",
    "https://app2top.ru/marketing/devtodev-regulyarnost-vhodov-vazhnejshij-pokazatel-monetizatsii-igry-55693.html"
   ]
  },
  {
   "cell_type": "markdown",
   "metadata": {},
   "source": [
    "### Анализ источников трафика. Доля пользователей из каждого источника."
   ]
  },
  {
   "cell_type": "code",
   "execution_count": 10,
   "metadata": {},
   "outputs": [
    {
     "data": {
      "image/png": "[encoded data removed]",
      "text/plain": [
       "<Figure size 720x720 with 1 Axes>"
      ]
     },
     "metadata": {},
     "output_type": "display_data"
    }
   ],
   "source": [
    "users_by_source = user_source.groupby('source').agg({'user_id':'nunique'}).reset_index()\n",
    "\n",
    "plot = users_by_source.plot.pie(x='source', y='user_id', figsize=(10, 10), autopct=\"%1.0f%%\", labels = users_by_source['source'])"
   ]
  },
  {
   "cell_type": "markdown",
   "metadata": {},
   "source": [
    "<div style=\"border:solid gray 1px; padding: 20px\">\n",
    "    \n",
    "Большинство пользователей пришло с источника - Yandex Direct (около 35%). Следующий по доле источник - Instagram new advert - 25%, затем Facebook_ads и Youtube_chennel_reklama (около 20 %).     "
   ]
  },
  {
   "cell_type": "markdown",
   "metadata": {},
   "source": [
    "### Анализ поведения пользователей в игре. "
   ]
  },
  {
   "cell_type": "markdown",
   "metadata": {},
   "source": [
    "#### Доля каждого события в игре."
   ]
  },
  {
   "cell_type": "code",
   "execution_count": 11,
   "metadata": {},
   "outputs": [
    {
     "data": {
      "image/png": "[encoded data removed]",
      "text/plain": [
       "<Figure size 2160x576 with 1 Axes>"
      ]
     },
     "metadata": {},
     "output_type": "display_data"
    }
   ],
   "source": [
    "pivot = game_actions.groupby('event').agg({'user_id':'nunique'})\n",
    "\n",
    "plot=pivot.plot(kind='pie',subplots=True,fontsize=13,figsize=(30,8),colormap='Pastel1',legend=True, autopct=\"%1.0f%%\")"
   ]
  },
  {
   "cell_type": "markdown",
   "metadata": {},
   "source": [
    "<div style=\"border:solid gray 1px; padding: 20px\">\n",
    "\n",
    "64% пользователей находятся на стадии строительства зданий. 27% завершили первый уровень, одержав победу над врагом и 9 % пользователей реализовали проект (построили три типа здания)."
   ]
  },
  {
   "cell_type": "markdown",
   "metadata": {},
   "source": [
    "#### Распределение событий в игре по дням"
   ]
  },
  {
   "cell_type": "code",
   "execution_count": 12,
   "metadata": {},
   "outputs": [
    {
     "data": {
      "image/png": "[encoded data removed]",
      "text/plain": [
       "<Figure size 1224x504 with 1 Axes>"
      ]
     },
     "metadata": {
      "needs_background": "light"
     },
     "output_type": "display_data"
    }
   ],
   "source": [
    "game_actions['event_day'] = game_actions['event_datetime'].astype('datetime64[D]')\n",
    "\n",
    "game_actions_for_plot = game_actions.copy(deep=True)\n",
    "\n",
    "game_actions_for_plot['event_day'] = game_actions['event_datetime'].astype('datetime64[D]').dt.strftime('%m-%d')\n",
    "\n",
    "game_actions_pivot = game_actions_for_plot.pivot_table(index = 'event_day', columns = 'event', values='user_id',aggfunc='nunique')\n",
    "\n",
    "plot =  game_actions_pivot.plot.bar(stacked=True, fontsize=10,figsize=(17,7),colormap='Set2')\n",
    "plt.ylabel('Количество уникальных пользователей')\n",
    "plt.title('Распределение событий в игре по дням')\n",
    "plt.show()"
   ]
  },
  {
   "cell_type": "markdown",
   "metadata": {},
   "source": [
    "<div style=\"border:solid gray 1px; padding: 20px\">\n",
    "    \n",
    "Из графика видно,что в основном большая часть пользователей занимается строительством объектов. С 10 мая появляется заметный процент пользователей, кто прошел игру , одержав победу над врагом. С 14 по 17 мая больше всего пользователей проходили первый уровень. "
   ]
  },
  {
   "cell_type": "markdown",
   "metadata": {},
   "source": [
    "#### Доля построенных объектов"
   ]
  },
  {
   "cell_type": "code",
   "execution_count": 13,
   "metadata": {},
   "outputs": [
    {
     "data": {
      "text/html": [
       "<div>\n",
       "<style scoped>\n",
       "    .dataframe tbody tr th:only-of-type {\n",
       "        vertical-align: middle;\n",
       "    }\n",
       "\n",
       "    .dataframe tbody tr th {\n",
       "        vertical-align: top;\n",
       "    }\n",
       "\n",
       "    .dataframe thead th {\n",
       "        text-align: right;\n",
       "    }\n",
       "</style>\n",
       "<table border=\"1\" class=\"dataframe\">\n",
       "  <thead>\n",
       "    <tr style=\"text-align: right;\">\n",
       "      <th></th>\n",
       "      <th>building_type</th>\n",
       "      <th>user_id</th>\n",
       "    </tr>\n",
       "  </thead>\n",
       "  <tbody>\n",
       "    <tr>\n",
       "      <td>0</td>\n",
       "      <td>spaceport</td>\n",
       "      <td>59325</td>\n",
       "    </tr>\n",
       "    <tr>\n",
       "      <td>1</td>\n",
       "      <td>assembly_shop</td>\n",
       "      <td>54494</td>\n",
       "    </tr>\n",
       "    <tr>\n",
       "      <td>2</td>\n",
       "      <td>research_center</td>\n",
       "      <td>14138</td>\n",
       "    </tr>\n",
       "  </tbody>\n",
       "</table>\n",
       "</div>"
      ],
      "text/plain": [
       "     building_type  user_id\n",
       "0        spaceport    59325\n",
       "1    assembly_shop    54494\n",
       "2  research_center    14138"
      ]
     },
     "metadata": {},
     "output_type": "display_data"
    },
    {
     "data": {
      "text/plain": [
       "array([<matplotlib.axes._subplots.AxesSubplot object at 0x7f3e53041050>],\n",
       "      dtype=object)"
      ]
     },
     "execution_count": 13,
     "metadata": {},
     "output_type": "execute_result"
    },
    {
     "data": {
      "image/png": "[encoded data removed]",
      "text/plain": [
       "<Figure size 2160x576 with 1 Axes>"
      ]
     },
     "metadata": {},
     "output_type": "display_data"
    }
   ],
   "source": [
    "action_building = game_actions.query('event == \"building\"')\n",
    "\n",
    "action_building_count = action_building.groupby('building_type').agg({'user_id': 'count'}).sort_values(by='user_id', ascending=False)\n",
    "display(action_building_count.reset_index())\n",
    "\n",
    "\n",
    "action_building_count.plot(kind='pie',figsize = [30,8], title = 'Соотношение построенных объектов в игре',\n",
    "                colormap='tab20b', subplots=True, autopct=\"%1.0f%%\")\n"
   ]
  },
  {
   "cell_type": "markdown",
   "metadata": {},
   "source": [
    "<div style=\"border:solid gray 1px; padding: 20px\">\n",
    "\n",
    "Пользователи чаще всего строят или космопорт, или сборочный цех (46% и 43%). Меньше всего удаётся пользователям построить исследовательский центр - всего 11%. "
   ]
  },
  {
   "cell_type": "markdown",
   "metadata": {},
   "source": [
    "#### Распределение построенных объектов в игре по дням"
   ]
  },
  {
   "cell_type": "code",
   "execution_count": 14,
   "metadata": {},
   "outputs": [
    {
     "data": {
      "image/png": "[encoded data removed]",
      "text/plain": [
       "<Figure size 1224x504 with 1 Axes>"
      ]
     },
     "metadata": {
      "needs_background": "light"
     },
     "output_type": "display_data"
    }
   ],
   "source": [
    "action_building['event_day'] = action_building['event_day'].astype('datetime64[D]').dt.strftime('%m-%d')\n",
    "action_building = action_building.pivot_table(index = 'event_day', columns = 'building_type', values='user_id',aggfunc='nunique')\n",
    "plot =  action_building.plot.bar(stacked=True, fontsize=10,figsize=(17,7),colormap='Set3')\n",
    "plt.ylabel('Количество уникальных пользователей')\n",
    "plt.title('Распределение построенных объектов в игре по дням')\n",
    "plt.show()"
   ]
  },
  {
   "cell_type": "markdown",
   "metadata": {},
   "source": [
    "<div style=\"border:solid gray 1px; padding: 20px\">\n",
    "\n",
    "Сперва пользователи приступают к построению сборочного цеха и космопорта, и только после этого начинают строить исследовательский центр. Можно предположить, что строительство сборочного цеха - это самое легкое задание на первом уровне, а постройка исследовательского центра наиболее сложное и трудозатратное. Также возможно, что доступ к строительству исследовательского центра можно получить только после строительства космопорта и сборочного цеха. \n"
   ]
  },
  {
   "cell_type": "markdown",
   "metadata": {},
   "source": [
    "### Подсчет времени, прошедшего с момента первой сессии до прохождения первого уровня"
   ]
  },
  {
   "cell_type": "code",
   "execution_count": 15,
   "metadata": {},
   "outputs": [],
   "source": [
    "#Создание столбца с информацией о первой игровой сессии:\n",
    "first_event_datetime = game_actions.groupby(['user_id'])['event_datetime'].min()\n",
    "first_event_datetime.name = 'first_event_datetime'\n",
    "game_actions = game_actions.join(first_event_datetime, on='user_id')"
   ]
  },
  {
   "cell_type": "markdown",
   "metadata": {},
   "source": [
    "#### Подсчет времени, прошедшего с момента первой сессии до прохождения первого уровня, завершив проект"
   ]
  },
  {
   "cell_type": "code",
   "execution_count": 16,
   "metadata": {},
   "outputs": [
    {
     "name": "stdout",
     "output_type": "stream",
     "text": [
      "Среднее время с первой сессии до завершения 1 уровня: 11 дней\n",
      "Медиана времени с первой сессии до завершения 1 уровня: 11 дней\n"
     ]
    }
   ],
   "source": [
    "#Отфильтруем датасет по событию project \n",
    "complete_level_actions_project = game_actions.query('event == \"project\"')\n",
    "\n",
    "#Время прохождение уровня \n",
    "complete_level_pr = complete_level_actions_project.groupby(['user_id']).agg({'event_datetime':'min'}).reset_index()\n",
    "complete_level_pr.columns = ['user_id','complete_level_time']\n",
    "\n",
    "#Объединение таблиц\n",
    "complete_level_df_pr = complete_level_pr.merge(complete_level_actions_project, how='left', on ='user_id')\n",
    "\n",
    "#Разница между первой сессией и прохождением первого уровня для каждого пользователя\n",
    "complete_level_df_pr['day_before_complete_level'] = (complete_level_df_pr['complete_level_time'] - complete_level_df_pr['first_event_datetime']) / np.timedelta64(1,'D')\n",
    "\n",
    "print('Среднее время с первой сессии до завершения 1 уровня: {} дней'.format(int(complete_level_df_pr['day_before_complete_level'].mean())))\n",
    "print('Медиана времени с первой сессии до завершения 1 уровня: {} дней'.format(int(complete_level_df_pr['day_before_complete_level'].median())))\n"
   ]
  },
  {
   "cell_type": "markdown",
   "metadata": {},
   "source": [
    "#### Подсчет времени, прошедшего с момента первой сессии до прохождения первого уровня, одержав победу над врагом"
   ]
  },
  {
   "cell_type": "code",
   "execution_count": 17,
   "metadata": {},
   "outputs": [],
   "source": [
    "#Отфильтруем датасет по событию finished_stage_1\n",
    "complete_level_actions_fs1 = game_actions.query('event == \"finished_stage_1\"')\n",
    "\n",
    "#Время прохождение уровня \n",
    "complete_level_fs1 = complete_level_actions_fs1.groupby(['user_id']).agg({'event_datetime':'min'}).reset_index()\n",
    "complete_level_fs1.columns = ['user_id','complete_level_time']\n",
    "\n",
    "#Объединение таблиц\n",
    "complete_level_df_won = complete_level_fs1.merge(complete_level_actions_fs1, how='left', on ='user_id')"
   ]
  },
  {
   "cell_type": "code",
   "execution_count": 18,
   "metadata": {},
   "outputs": [],
   "source": [
    "list = set(complete_level_df_won['user_id']).intersection(set(complete_level_df_pr['user_id']))\n",
    "\n",
    "complete_level_df_won = complete_level_df_won.query('user_id not in @list')"
   ]
  },
  {
   "cell_type": "code",
   "execution_count": 19,
   "metadata": {},
   "outputs": [
    {
     "name": "stdout",
     "output_type": "stream",
     "text": [
      "Среднее время с первой сессии до завершения 1 уровня: 11 дней\n",
      "Медиана времени с первой сессии до завершения 1 уровня: 10 дней\n"
     ]
    }
   ],
   "source": [
    "#Разница между первой сессией и прохождением первого уровня для каждого пользователя\n",
    "complete_level_df_won['day_before_complete_level'] = (complete_level_df_won['complete_level_time'] - complete_level_df_won['first_event_datetime']) / np.timedelta64(1,'D')\n",
    "\n",
    "\n",
    "print('Среднее время с первой сессии до завершения 1 уровня: {} дней'.format(int(complete_level_df_won['day_before_complete_level'].mean())))\n",
    "print('Медиана времени с первой сессии до завершения 1 уровня: {} дней'.format(int(complete_level_df_won['day_before_complete_level'].median())))"
   ]
  },
  {
   "cell_type": "code",
   "execution_count": 20,
   "metadata": {},
   "outputs": [
    {
     "data": {
      "text/plain": [
       "Text(0.5, 1.0, \"Сравнение времени, затраченного на прохождение первого уровня разными способами'\")"
      ]
     },
     "execution_count": 20,
     "metadata": {},
     "output_type": "execute_result"
    },
    {
     "data": {
      "image/png": "[encoded data removed]",
      "text/plain": [
       "<Figure size 1008x648 with 1 Axes>"
      ]
     },
     "metadata": {
      "needs_background": "light"
     },
     "output_type": "display_data"
    }
   ],
   "source": [
    "plt.figure(figsize=(14, 9))\n",
    "sns.distplot(complete_level_df_pr['day_before_complete_level'],kde=False)\n",
    "sns.distplot(complete_level_df_won['day_before_complete_level'], kde=False)\n",
    "plt.legend(['Завершили проект','Одержали победу на врагом'])\n",
    "plt.title(\"Сравнение времени, затраченного на прохождение первого уровня разными способами'\")"
   ]
  },
  {
   "cell_type": "markdown",
   "metadata": {},
   "source": [
    "<div style=\"border:solid gray 1px; padding: 20px\">\n",
    "    \n",
    "Как было до этого сказано, пользователей, которые прошли первый уровень, одержав победу над врагом, больше,чем тех, кто прошел 1 уровень, завершив проект. Чаще всего в обеих группах пользователи завершают первый уровень за 11 дней. Есть пользователи, которые одерживали победу над врагом на 1-2 дни игры. Пользователи, которые занимались строительством заканчивали уровень не раньше 4 дня. Прохождение первого уровня раньше 5 дней и после 20 - аномальны.   "
   ]
  },
  {
   "cell_type": "markdown",
   "metadata": {},
   "source": [
    "### Когортный анализ по количеству построенных объектов на пользователя"
   ]
  },
  {
   "cell_type": "code",
   "execution_count": 21,
   "metadata": {},
   "outputs": [],
   "source": [
    "game_actions['first_day'] = game_actions['first_event_datetime'].astype('datetime64[D]')\n",
    "\n",
    "last_day = game_actions.groupby(['user_id'])['event_datetime'].max().astype('datetime64[D]')\n",
    "last_day.name = 'last_day'\n",
    "game_actions = game_actions.join(last_day, on='user_id')"
   ]
  },
  {
   "cell_type": "code",
   "execution_count": 22,
   "metadata": {},
   "outputs": [
    {
     "data": {
      "image/png": "[encoded data removed]",
      "text/plain": [
       "<Figure size 720x216 with 2 Axes>"
      ]
     },
     "metadata": {},
     "output_type": "display_data"
    }
   ],
   "source": [
    "game_actions_building = game_actions.query('event==\"building\"')\n",
    "\n",
    "game_actions_building ['activity_week'] = pd.to_datetime(game_actions_building ['event_day'], unit='d') - pd.to_timedelta(game_actions_building ['event_day'].dt.dayofweek, unit='d')\n",
    "game_actions_building ['first_activity_week'] = pd.to_datetime(game_actions_building ['first_day'], unit='d') - pd.to_timedelta(game_actions_building ['first_day'].dt.dayofweek, unit='d') \n",
    "\n",
    "\n",
    "game_actions_building ['lifetime'] = game_actions_building ['activity_week'] - game_actions_building ['first_activity_week']\n",
    "game_actions_building ['lifetime'] = game_actions_building ['lifetime'] / np.timedelta64(1,'W')\n",
    "game_actions_building ['lifetime'] = game_actions_building ['lifetime'].astype('int') \n",
    "\n",
    "\n",
    "building_by_cohorts = game_actions_building.groupby(['first_activity_week', 'lifetime']).agg({'user_id':['count', 'nunique']}).reset_index()\n",
    "building_by_cohorts.columns = ['first_activity_week', 'lifetime', 'building_total', 'users_total']\n",
    "\n",
    "building_by_cohorts['building_per_user'] = building_by_cohorts['building_total'] / building_by_cohorts['users_total']\n",
    "building_by_cohorts['first_activity_week'] = building_by_cohorts['first_activity_week'].dt.strftime('%Y-%m')\n",
    "\n",
    "\n",
    "sns.set(style='whitegrid')\n",
    "plt.figure(figsize=(10, 3))\n",
    "plt.title('Когорты: среднее количество строений за неделю')\n",
    "sns.heatmap(building_by_cohorts.pivot_table(index='first_activity_week',\n",
    "                                                  columns='lifetime',\n",
    "                                                  values='building_per_user',\n",
    "                                                  aggfunc='mean'), annot=True, fmt='.0f', linewidths=1, linecolor='gray',vmin=0, vmax=7);\n"
   ]
  },
  {
   "cell_type": "markdown",
   "metadata": {},
   "source": [
    "<div style=\"border:solid gray 1px; padding: 20px\">\n",
    "\n",
    "Т.к. данные доступны за период с 4 мая по 5 июня, решено формировать когорты за неделю. В основном, пользователи заканчивают строительство трех объектов в первую неделю, во вторую и третью им удаётся построить по два объекта. "
   ]
  },
  {
   "cell_type": "markdown",
   "metadata": {},
   "source": [
    "### Расчет Retention Rate для пользователей, которые не прошли первый уровень.  "
   ]
  },
  {
   "cell_type": "code",
   "execution_count": 23,
   "metadata": {},
   "outputs": [
    {
     "data": {
      "text/html": [
       "<div>\n",
       "<style scoped>\n",
       "    .dataframe tbody tr th:only-of-type {\n",
       "        vertical-align: middle;\n",
       "    }\n",
       "\n",
       "    .dataframe tbody tr th {\n",
       "        vertical-align: top;\n",
       "    }\n",
       "\n",
       "    .dataframe thead th {\n",
       "        text-align: right;\n",
       "    }\n",
       "</style>\n",
       "<table border=\"1\" class=\"dataframe\">\n",
       "  <thead>\n",
       "    <tr style=\"text-align: right;\">\n",
       "      <th></th>\n",
       "      <th>first_activity_week</th>\n",
       "      <th>lifetime</th>\n",
       "      <th>user_id</th>\n",
       "      <th>cohort_users</th>\n",
       "      <th>retention</th>\n",
       "    </tr>\n",
       "  </thead>\n",
       "  <tbody>\n",
       "    <tr>\n",
       "      <td>0</td>\n",
       "      <td>05-04</td>\n",
       "      <td>0</td>\n",
       "      <td>13576</td>\n",
       "      <td>13576</td>\n",
       "      <td>1.000000</td>\n",
       "    </tr>\n",
       "    <tr>\n",
       "      <td>1</td>\n",
       "      <td>05-04</td>\n",
       "      <td>1</td>\n",
       "      <td>11980</td>\n",
       "      <td>13576</td>\n",
       "      <td>0.882440</td>\n",
       "    </tr>\n",
       "    <tr>\n",
       "      <td>2</td>\n",
       "      <td>05-04</td>\n",
       "      <td>2</td>\n",
       "      <td>3961</td>\n",
       "      <td>13576</td>\n",
       "      <td>0.291765</td>\n",
       "    </tr>\n",
       "    <tr>\n",
       "      <td>3</td>\n",
       "      <td>05-04</td>\n",
       "      <td>3</td>\n",
       "      <td>437</td>\n",
       "      <td>13576</td>\n",
       "      <td>0.032189</td>\n",
       "    </tr>\n",
       "    <tr>\n",
       "      <td>4</td>\n",
       "      <td>05-04</td>\n",
       "      <td>4</td>\n",
       "      <td>22</td>\n",
       "      <td>13576</td>\n",
       "      <td>0.001621</td>\n",
       "    </tr>\n",
       "  </tbody>\n",
       "</table>\n",
       "</div>"
      ],
      "text/plain": [
       "  first_activity_week  lifetime  user_id  cohort_users  retention\n",
       "0               05-04         0    13576         13576   1.000000\n",
       "1               05-04         1    11980         13576   0.882440\n",
       "2               05-04         2     3961         13576   0.291765\n",
       "3               05-04         3      437         13576   0.032189\n",
       "4               05-04         4       22         13576   0.001621"
      ]
     },
     "metadata": {},
     "output_type": "display_data"
    },
    {
     "data": {
      "image/png": "[encoded data removed]",
      "text/plain": [
       "<Figure size 720x216 with 2 Axes>"
      ]
     },
     "metadata": {},
     "output_type": "display_data"
    }
   ],
   "source": [
    "cohorts = game_actions_building.groupby(['first_activity_week','lifetime']).agg({'user_id':'nunique'}).reset_index() \n",
    "\n",
    "\n",
    "initial_users_count = cohorts[cohorts['lifetime'] == 0][['first_activity_week','user_id']]\n",
    "\n",
    "initial_users_count = initial_users_count.rename(columns={'user_id':'cohort_users'}) \n",
    "\n",
    "cohorts = cohorts.merge(initial_users_count,on='first_activity_week') \n",
    "cohorts['first_activity_week'] = cohorts['first_activity_week'].dt.strftime('%m-%d')\n",
    "\n",
    "cohorts['retention'] = cohorts['user_id']/cohorts['cohort_users'] \n",
    "\n",
    "retention_pivot = cohorts.pivot_table(index='first_activity_week',columns='lifetime',values='retention',aggfunc='sum') \n",
    "display(cohorts)\n",
    "\n",
    "\n",
    "sns.set(style='white')\n",
    "plt.figure(figsize=(10, 3))\n",
    "plt.title('Когорты: Retention Rate')\n",
    "sns.heatmap(retention_pivot, annot=True, fmt='.1%', linewidths=1, linecolor='gray',vmin = 0 ,vmax=1, center= 0.04,cmap='coolwarm');"
   ]
  },
  {
   "cell_type": "markdown",
   "metadata": {},
   "source": [
    "<div style=\"border:solid gray 1px; padding: 20px\">\n",
    "    \n",
    "Из тепловой карты видно, что если пользователь не успел завершить первый уровень за первые две недели, то очень маловероятно, что он вернётся. "
   ]
  },
  {
   "cell_type": "markdown",
   "metadata": {},
   "source": [
    "### Анализ затрат на источники трафика"
   ]
  },
  {
   "cell_type": "markdown",
   "metadata": {},
   "source": [
    "#### Сколько потрачено всего на источники трафика и на каждый источник в отдельности."
   ]
  },
  {
   "cell_type": "code",
   "execution_count": 24,
   "metadata": {},
   "outputs": [
    {
     "name": "stdout",
     "output_type": "stream",
     "text": [
      "\u001b[1;94mВсего потрачено на источники:\u001b[0m\n",
      "7604.0\n"
     ]
    }
   ],
   "source": [
    "print('\\x1b[1;94m'+'Всего потрачено на источники:'+'\\x1b[0m')\n",
    "\n",
    "print(ad_costs['cost'].sum().round())"
   ]
  },
  {
   "cell_type": "code",
   "execution_count": 25,
   "metadata": {},
   "outputs": [
    {
     "data": {
      "text/plain": [
       "<matplotlib.axes._subplots.AxesSubplot at 0x7f3e52d22c90>"
      ]
     },
     "execution_count": 25,
     "metadata": {},
     "output_type": "execute_result"
    },
    {
     "data": {
      "image/png": "[encoded data removed]",
      "text/plain": [
       "<Figure size 576x576 with 1 Axes>"
      ]
     },
     "metadata": {},
     "output_type": "display_data"
    }
   ],
   "source": [
    "ad_costs.groupby('source').sum().plot(kind='pie', y='cost', autopct='%1.1f%%', figsize = (8, 8), legend=True, startangle=45,\n",
    "                                      pctdistance=1.1, labeldistance=1.3, colormap='cividis')"
   ]
  },
  {
   "cell_type": "markdown",
   "metadata": {},
   "source": [
    "<div style=\"border:solid gray 1px; padding: 20px\">\n",
    "\n",
    "Всего на привлечение пользователей потратили 7604. При этом почти поровну денег было вложено в три источника - Yandex, Facebook и Instagram. На рекламу на ютубе затрачено было меньше всего - 14%."
   ]
  },
  {
   "cell_type": "markdown",
   "metadata": {},
   "source": [
    "#### Стоимость привлечения клиента (САС)."
   ]
  },
  {
   "cell_type": "code",
   "execution_count": 26,
   "metadata": {},
   "outputs": [
    {
     "data": {
      "image/png": "[encoded data removed]",
      "text/plain": [
       "<Figure size 864x432 with 1 Axes>"
      ]
     },
     "metadata": {},
     "output_type": "display_data"
    }
   ],
   "source": [
    "costs_by_source = ad_costs.groupby('source').agg({'cost':'sum'}).reset_index()\n",
    "\n",
    "plt.figure(figsize = [12,6])\n",
    "plot = sns.barplot(x=\"source\", y=\"cost\", data=costs_by_source, palette='icefire')\n",
    "for p in plot.patches:\n",
    "    plot.annotate(format(p.get_height(), '.0f'), \n",
    "                   (p.get_x() + p.get_width() / 2., p.get_height()), \n",
    "                   ha = 'center', va = 'center', \n",
    "                   xytext = (0, 9),\n",
    "                   textcoords = 'offset points')\n",
    "\n",
    "plt.title('Затраты по источнику')\n",
    "plot.set_xlabel('Тип источника')\n",
    "plot.set_ylabel('Сумма затрат')\n",
    "plt.ylim(0, 2600)\n",
    "plt.show()"
   ]
  },
  {
   "cell_type": "code",
   "execution_count": 27,
   "metadata": {},
   "outputs": [
    {
     "data": {
      "text/plain": [
       "(0, 6000)"
      ]
     },
     "execution_count": 27,
     "metadata": {},
     "output_type": "execute_result"
    },
    {
     "data": {
      "image/png": "[encoded data removed]",
      "text/plain": [
       "<Figure size 864x432 with 1 Axes>"
      ]
     },
     "metadata": {},
     "output_type": "display_data"
    }
   ],
   "source": [
    "users_by_source = user_source.groupby('source').agg({'user_id':'nunique'}).reset_index()\n",
    "\n",
    "\n",
    "plt.figure(figsize = [12,6])\n",
    "plot = sns.barplot(x=\"source\", y=\"user_id\", data=users_by_source, palette='gist_heat_r')\n",
    "for p in plot.patches:\n",
    "    plot.annotate(format(p.get_height(), '.0f'), \n",
    "                   (p.get_x() + p.get_width() / 2., p.get_height()), \n",
    "                   ha = 'center', va = 'center', \n",
    "                   xytext = (0, 9),\n",
    "                   textcoords = 'offset points')\n",
    "plt.ylim(0, 6000)"
   ]
  },
  {
   "cell_type": "code",
   "execution_count": 28,
   "metadata": {},
   "outputs": [
    {
     "data": {
      "text/html": [
       "<div>\n",
       "<style scoped>\n",
       "    .dataframe tbody tr th:only-of-type {\n",
       "        vertical-align: middle;\n",
       "    }\n",
       "\n",
       "    .dataframe tbody tr th {\n",
       "        vertical-align: top;\n",
       "    }\n",
       "\n",
       "    .dataframe thead th {\n",
       "        text-align: right;\n",
       "    }\n",
       "</style>\n",
       "<table border=\"1\" class=\"dataframe\">\n",
       "  <thead>\n",
       "    <tr style=\"text-align: right;\">\n",
       "      <th></th>\n",
       "      <th>index</th>\n",
       "      <th>source</th>\n",
       "      <th>user_id</th>\n",
       "      <th>cost</th>\n",
       "      <th>cac</th>\n",
       "    </tr>\n",
       "  </thead>\n",
       "  <tbody>\n",
       "    <tr>\n",
       "      <td>0</td>\n",
       "      <td>0</td>\n",
       "      <td>facebook_ads</td>\n",
       "      <td>2726</td>\n",
       "      <td>2140.904643</td>\n",
       "      <td>0.785365</td>\n",
       "    </tr>\n",
       "    <tr>\n",
       "      <td>1</td>\n",
       "      <td>1</td>\n",
       "      <td>instagram_new_adverts</td>\n",
       "      <td>3347</td>\n",
       "      <td>2161.441691</td>\n",
       "      <td>0.645785</td>\n",
       "    </tr>\n",
       "    <tr>\n",
       "      <td>2</td>\n",
       "      <td>2</td>\n",
       "      <td>yandex_direct</td>\n",
       "      <td>4817</td>\n",
       "      <td>2233.111449</td>\n",
       "      <td>0.463590</td>\n",
       "    </tr>\n",
       "    <tr>\n",
       "      <td>3</td>\n",
       "      <td>3</td>\n",
       "      <td>youtube_channel_reklama</td>\n",
       "      <td>2686</td>\n",
       "      <td>1068.119204</td>\n",
       "      <td>0.397662</td>\n",
       "    </tr>\n",
       "  </tbody>\n",
       "</table>\n",
       "</div>"
      ],
      "text/plain": [
       "   index                   source  user_id         cost       cac\n",
       "0      0             facebook_ads     2726  2140.904643  0.785365\n",
       "1      1    instagram_new_adverts     3347  2161.441691  0.645785\n",
       "2      2            yandex_direct     4817  2233.111449  0.463590\n",
       "3      3  youtube_channel_reklama     2686  1068.119204  0.397662"
      ]
     },
     "metadata": {},
     "output_type": "display_data"
    }
   ],
   "source": [
    "cac = users_by_source.merge(costs_by_source, on='source').reset_index()\n",
    "cac['cac'] = cac['cost'] / cac['user_id']\n",
    "display(cac)"
   ]
  },
  {
   "cell_type": "markdown",
   "metadata": {},
   "source": [
    "<div style=\"border:solid gray 1px; padding: 20px\">\n",
    "    \n",
    "    Больше всего затрат уходит на источник Yandex, с него же и приходит самое большое количество пользователей. Примерно одинаковое количество затрат распределяется на Facebook и Instagram, но Facebook привлекает мало пользователей. \n",
    "    \n",
    "    Дороже всего обходится привлечения клиента с источника - Facebook. Далее идёт Instagram и Yandex. Дешевле всего привлекать пользователя с Youtube."
   ]
  },
  {
   "cell_type": "markdown",
   "metadata": {},
   "source": [
    "#### Расчет минимальной стоимости рекламы, чтобы окупались затраты на привлечения пользователей"
   ]
  },
  {
   "cell_type": "markdown",
   "metadata": {},
   "source": [
    "Т.к.  создатели игры планируют показывать её на экране выбором постройки, то сделаем срез по событию \"объект построен\", по периоду (с 3 по 9 мая) и посчитаем сколько раз было совершено это событие (просмотров рекламы)."
   ]
  },
  {
   "cell_type": "code",
   "execution_count": 29,
   "metadata": {},
   "outputs": [
    {
     "data": {
      "text/plain": [
       "63086"
      ]
     },
     "metadata": {},
     "output_type": "display_data"
    }
   ],
   "source": [
    "start_date, end_date = '2020-05-03', '2020-05-10'\n",
    "\n",
    "total_viewing_ads = len(game_actions.query('(event == \"building\") & (event_day >= @start_date and event_day < @end_date)'))\n",
    "display(total_viewing_ads)"
   ]
  },
  {
   "cell_type": "markdown",
   "metadata": {},
   "source": [
    "Поделим сумму затрат на количество просмотров"
   ]
  },
  {
   "cell_type": "code",
   "execution_count": 30,
   "metadata": {},
   "outputs": [
    {
     "data": {
      "text/plain": [
       "0.12052716905158073"
      ]
     },
     "metadata": {},
     "output_type": "display_data"
    }
   ],
   "source": [
    "display(ad_costs['cost'].sum() / total_viewing_ads)"
   ]
  },
  {
   "cell_type": "markdown",
   "metadata": {},
   "source": [
    "<div style=\"border:solid gray 1px; padding: 20px\">\n",
    "    \n",
    "Стоимость за показ должна быть не меньше 0.12"
   ]
  },
  {
   "cell_type": "markdown",
   "metadata": {},
   "source": [
    "##  Проверка статистической гипотезы различия времени прохождения уровня между пользователями, которые заканчивают уровень через реализацию проекта, и пользователями, которые заканчивают уровень победой над другим игроком."
   ]
  },
  {
   "cell_type": "code",
   "execution_count": 31,
   "metadata": {},
   "outputs": [
    {
     "data": {
      "text/plain": [
       "Timedelta('31 days 16:45:20')"
      ]
     },
     "metadata": {},
     "output_type": "display_data"
    },
    {
     "data": {
      "text/plain": [
       "3951"
      ]
     },
     "metadata": {},
     "output_type": "display_data"
    },
    {
     "data": {
      "text/plain": [
       "10.606175651733738"
      ]
     },
     "metadata": {},
     "output_type": "display_data"
    },
    {
     "data": {
      "text/plain": [
       "11.392818863879958"
      ]
     },
     "metadata": {},
     "output_type": "display_data"
    }
   ],
   "source": [
    "complete_level_actions_finished_stage_1 = game_actions.query('event == \"finished_stage_1\"')\n",
    "complete_level_actions_finished_stage_1 = complete_level_actions_finished_stage_1.query('user_id not in @list')\n",
    "complete_level_actions_finished_stage_1['lifetime'] = complete_level_actions_finished_stage_1['event_datetime'] - complete_level_actions_finished_stage_1['first_event_datetime']\n",
    "complete_level_actions_finished_stage_1['lifetime'] = complete_level_actions_finished_stage_1['lifetime'].astype('timedelta64[D]').astype('int')\n",
    "term_fs1=(complete_level_actions_finished_stage_1['event_datetime'].max()) - (complete_level_actions_finished_stage_1['event_datetime'].min())\n",
    "display(term_fs1)\n",
    "display(len(complete_level_actions_finished_stage_1))\n",
    "\n",
    "complete_level_actions_project = game_actions.query('event == \"project\"')\n",
    "complete_level_actions_project['lifetime'] = complete_level_actions_project['event_datetime'] - complete_level_actions_project['first_event_datetime']                                                                                                                                          \n",
    "complete_level_actions_project['lifetime'] = complete_level_actions_project['lifetime'].astype('timedelta64[D]').astype('int')\n",
    "term_pr=(complete_level_actions_project['event_datetime'].max()) - (complete_level_actions_project['event_datetime'].min())\n",
    "\n",
    "complete_level_actions_finished_stage_1_mean = complete_level_actions_finished_stage_1.groupby('user_id')['lifetime'].mean().mean()\n",
    "complete_level_actions_project_mean = complete_level_actions_project.groupby('user_id')['lifetime'].mean().mean()\n",
    "\n",
    "display(complete_level_actions_finished_stage_1_mean)\n",
    "display(complete_level_actions_project_mean)"
   ]
  },
  {
   "cell_type": "code",
   "execution_count": 32,
   "metadata": {
    "scrolled": true
   },
   "outputs": [],
   "source": [
    "complete_level_actions_finished_stage_1_ = complete_level_actions_finished_stage_1.query('event == \"finished_stage_1\"')['lifetime']\n",
    "complete_level_actions_project_ = complete_level_actions_project = complete_level_actions_project.query('event == \"project\"')['lifetime']"
   ]
  },
  {
   "cell_type": "markdown",
   "metadata": {},
   "source": [
    "Гипотеза №1 \n",
    "\n",
    "Время прохождения уровня между пользователями, которые заканчивают уровень через реализацию проекта, и пользователями, которые заканчивают уровень победой над другим игроком.\n",
    "\n",
    "H0  — Время прохождения одинаковое.\n",
    "\n",
    "H1  — Время прохождения различается.\n",
    "\n",
    "α=5%"
   ]
  },
  {
   "cell_type": "code",
   "execution_count": 33,
   "metadata": {},
   "outputs": [
    {
     "name": "stdout",
     "output_type": "stream",
     "text": [
      "16.86005299091081\n",
      "13.213439020255224\n",
      "p-значение: 1.8471976323195476e-13\n",
      "Отвергаем нулевую гипотезу\n"
     ]
    }
   ],
   "source": [
    "#Проверка равенства дисперсий\n",
    "variance_estimate_fs1 = np.var(complete_level_actions_finished_stage_1_, ddof=1)\n",
    "print(variance_estimate_fs1)\n",
    "\n",
    "variance_estimate_pr = np.var(complete_level_actions_project_, ddof=1)\n",
    "print(variance_estimate_pr)\n",
    "\n",
    "alpha = .05\n",
    "\n",
    "results = st.ttest_ind(\n",
    "    complete_level_actions_finished_stage_1_, \n",
    "    complete_level_actions_project_,\n",
    "    equal_var=False)\n",
    "\n",
    "print('p-значение:', results.pvalue)\n",
    "\n",
    "if (results.pvalue < alpha):\n",
    "    print(\"Отвергаем нулевую гипотезу\")\n",
    "else:\n",
    "    print(\"Не получилось отвергнуть нулевую гипотезу\")"
   ]
  },
  {
   "cell_type": "markdown",
   "metadata": {},
   "source": [
    "<div style=\"border:solid gray 1px; padding: 20px\">\n",
    "    \n",
    "Применялся критерий Стьюдента для проверки равенства средних значений в двух выборках. Сначала проверялось равенство дисперсий. Т.к. они не равны, то параметр equal var в t-тесте  равен False. \n",
    "    \n",
    "В группе, где пользователи заканчивают уровень через реализацию проекта на прохождение игры в среднем уходит 11 дней.\n",
    "  \n",
    "В группе, где пользователи заканчивают уровень победой над другим игроком в среднем уходит 10 дней. На 1 день быстрее.\n",
    "    \n",
    "P-value больше критического уровня статистической значимости , поэтому нулевая гипотеза о равенстве данных была отвергнута, в группах разное время прохождения первого уровня. В группе, которая заканчивает уровень через реализацию проекта, пользователя в среднем тратят на прохождение первого уровня больше времени.\n",
    "     "
   ]
  },
  {
   "cell_type": "markdown",
   "metadata": {},
   "source": [
    "## Общий вывод"
   ]
  },
  {
   "cell_type": "markdown",
   "metadata": {},
   "source": [
    "\n",
    "\n",
    "Представлены данные: с информацией об источниках трафика пользователей; с итоговой стоимостью за клики, которая распределена по дням и источникам трафика; с информацией о событиях пользователей в игре за анализируемый период.Были обнаружены пропущенные данные, которые решено было игнорировать. \n",
    "    \n",
    "  "
   ]
  },
  {
   "cell_type": "markdown",
   "metadata": {},
   "source": [
    "Количество уникальных пользователей продукта в день: 2884 . Количество уникальных пользователей продукта в неделю: 6019.В месяц количество уникальных посетителей  6802. Вовлеченность аудитории за месяц: 42.41%"
   ]
  },
  {
   "cell_type": "markdown",
   "metadata": {},
   "source": [
    "Пользователей, которые прошли первый уровень, одержав победу над врагом, больше,чем тех, кто прошел 1 уровень, завершив проект. Чаще всего в обеих группах пользователи завершают первый уровень за 11 дней. Есть пользователи, которые одерживали победу над врагом на 1-2 дни игры. Пользователи, которые занимались строительством заканчивали уровень не раньше 4 дня. Прохождение первого уровня раньше 5 дней и после 20 - аномальны. Пользователи чаще всего строят или космопорт, или сборочный цех (46% и 43%). Меньше всего удаётся пользователям построить исследовательский центр - всего 11%. В основном, пользователи заканчивают строительство трех объектов в первую неделю, во вторую и третью им удаётся построить по два объекта. "
   ]
  },
  {
   "cell_type": "markdown",
   "metadata": {},
   "source": [
    "Retention rate для игроков, которые на этапе строительства, на протяжении всего периода равномерно падает, что значит, что пользователи возвращаются в первую неделю и постепенно отпадают со временем. Максимальное значение метрики составило в первую неделю 88,2%. В последнюю неделю процент вернувшихся пользователей - 0.2."
   ]
  },
  {
   "cell_type": "markdown",
   "metadata": {},
   "source": [
    "Большинство пользователей пришло с источника - Yandex Direct (около 35%). Следующий по доле источник - Instagram new advert - 25%, затем Facebook_ads и Youtube_chennel_reklama (около 20 %). Почти поровну затрат приходится на три вида источника: яндекс, инстаграм и фейсбук .Больше всего затрат уходит на привлечение новых пользователей по источникам фейсбук и инстаграм. "
   ]
  },
  {
   "cell_type": "markdown",
   "metadata": {},
   "source": [
    "Проверили, значима ли статистически разница времени прохождения уровня между пользователями, которые заканчивают уровень через реализацию проекта, и пользователями, которые заканчивают уровень победой над другим игроком. Нулевой гипотезой считали  равенство времени . Полученный p-value: 1.84 Нулевую гипотезу отвергли. Есть разница во времени.Группа, которая заканчивает уровень через реализацию проекта тратит на прохождение первого уровня больше времени."
   ]
  },
  {
   "cell_type": "markdown",
   "metadata": {},
   "source": [
    "Оптимальное время для запуска рекламы это первая неделя, когда как раз пользователи занимаются строительством объектов. Стоимость за показ должна быть не меньше 0.12, чтобы окупались затраты на привлечение клиентов. Стоит вкладываться в источник - Яндекс, т.к. оттуда больше всего пользователей, при этом затраты на привлечение одни из самых низких."
   ]
  }
 ],
 "metadata": {
  "kernelspec": {
   "display_name": "Python 3",
   "language": "python",
   "name": "python3"
  },
  "language_info": {
   "codemirror_mode": {
    "name": "ipython",
    "version": 3
   },
   "file_extension": ".py",
   "mimetype": "text/x-python",
   "name": "python",
   "nbconvert_exporter": "python",
   "pygments_lexer": "ipython3",
   "version": "3.7.8"
  },
  "toc": {
   "base_numbering": 1,
   "nav_menu": {},
   "number_sections": true,
   "sideBar": true,
   "skip_h1_title": true,
   "title_cell": "Table of Contents",
   "title_sidebar": "Contents",
   "toc_cell": false,
   "toc_position": {},
   "toc_section_display": true,
   "toc_window_display": true
  }
 },
 "nbformat": 4,
 "nbformat_minor": 4
}
